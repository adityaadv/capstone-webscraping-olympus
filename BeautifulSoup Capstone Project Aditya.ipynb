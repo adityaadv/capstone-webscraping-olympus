{
 "cells": [
  {
   "cell_type": "markdown",
   "metadata": {},
   "source": [
    "# Capstone Webscrapping using BeautifulSoup\n",
    "\n",
    "This notebook contains the capstone project of Webscraping by using one of the Python libraries called `beautifulSoup4` and created by Aditya Adhrevi\n",
    "\n",
    "**BACKGROUND**\n",
    "\n",
    "This project is due to one of the requirements in passing Data Analytics with Python courses of Fullstack Data Science program by [Algorit.ma](https://algorit.ma/). Within this project, a web scrapping approach is used to extract data from a website. The website that is used is [IMDB](imdb.com/search/title/?release_date=2019-01-01,2019-12-31) and the data to be extracted are movies from year 2019 with the limitation of 5 web pages. \n",
    "\n",
    "**Dependencies:**\n",
    "\n",
    "- beautifulSoup4\n",
    "- pandas\n",
    "- flask\n",
    "- matplotlib"
   ]
  },
  {
   "cell_type": "markdown",
   "metadata": {},
   "source": [
    "## Importing Library\n",
    "\n",
    "To initiate the project, several libraries are imported. "
   ]
  },
  {
   "cell_type": "code",
   "execution_count": 2,
   "metadata": {},
   "outputs": [],
   "source": [
    "import pandas as pd\n",
    "import requests\n",
    "from bs4 import BeautifulSoup\n",
    "from time import sleep # this is optional\n",
    "from random import randint # this is optional"
   ]
  },
  {
   "cell_type": "markdown",
   "metadata": {},
   "source": [
    "Within the project, the required libraries are `pandas`, `requests`, and `BeautifulSoup`. The function of these libraries are described as follows:\n",
    "\n",
    " - `pandas`       : to manipulate data and performing visualisation \n",
    " - `requests`     : to get the request of a website server\n",
    " - `BeatifulSoup` : to parsing the website html and extracting the data\n",
    " \n",
    "Note that the other two packages (`time` and `random`) are optional as this would be used in the project to mantain and avoid crash in perfoming `for` iterations which would be described in the next chapter."
   ]
  },
  {
   "cell_type": "markdown",
   "metadata": {},
   "source": [
    "## Initiation of the Web scrapping process"
   ]
  },
  {
   "cell_type": "markdown",
   "metadata": {},
   "source": [
    "As the web scrapping process would be done in several iterations, first thing to be done is to observe how many data records within a page. In the webpage, the amount of data records are 50 movies for each page. The range of itterations is defined in `pages` variable. Afterwards, the tuple for `movie_data` is created to temporarily store the data before the conversion to DataFrame."
   ]
  },
  {
   "attachments": {
    "image.png": {
     "image/png": "[encoded data removed]"
    }
   },
   "cell_type": "markdown",
   "metadata": {},
   "source": [
    "![image.png](attachment:image.png)"
   ]
  },
  {
   "cell_type": "markdown",
   "metadata": {},
   "source": [
    "Notice that each of every pages only has a change within `&start=` parameters in the url. Thus, the `request` of the url web page would be modified by adding `str()` function to the parameter for each `page` is being iterated. Next, the `soup` variable is added within the iteration to get the parser of the html webpages. Likewise, the `items` variable is find all of the 50 records within a webpage. Notice that the  `sleep()` function is used within the `for` loop as to maintan and avoid the code to crash while performing the iterations. "
   ]
  },
  {
   "cell_type": "code",
   "execution_count": 3,
   "metadata": {},
   "outputs": [],
   "source": [
    "pages = range(1,250,50) # to define numbers of iteration\n",
    "movie_data = [] # initiating tuple\n",
    "\n",
    "for page in pages: # \n",
    "    page = requests.get(\"https://www.imdb.com/search/title/?release_date=2019-01-01,2019-12-31&start=\"+str(page)+\"&ref_=adv_nxt\")\n",
    "    soup = BeautifulSoup(page.text, 'html.parser')\n",
    "    items = soup.find_all('div', attrs = {'class':'lister-item mode-advanced'}) #to find all of the contaire\n",
    "    sleep(randint(2, 8))\n",
    "    for it in items:\n",
    "        title = it.find('img')['alt']\n",
    "        rating = it.find('div', attrs={'class':'inline-block ratings-imdb-rating'})['data-value']\n",
    "        try : score = it.find('span', attrs={'class':'metascore favorable'}).text.replace('        ','')\n",
    "        except : score = 0\n",
    "        vote = it.find('span', attrs={'name':'nv'})['data-value']\n",
    "        movie_data.append([title, rating, score, vote])"
   ]
  },
  {
   "cell_type": "markdown",
   "metadata": {},
   "source": [
    "To extract the data from a table content of a data record in the website, another `for` loop is performed within the first loop to extract each of every variables (`title`, `rating`, `score`, and `vote`) that are wanted to be extracted by using `.find()` function from `BeautifulSoup` library. \n",
    "\n",
    "Note that within the code, the exception handling (`try` and `except`) are used to avoid errors in extracting the `metascore` data as several movies did not have any metascore within the database which resulting the extraction to have `None` value. This would raise errors if the text data within the html to be extracted as `None` values could not be extracted as text.\n",
    "\n",
    "Finally, the extracted data are temporarily stored in `movie_data` tuple by using `.append()` function. "
   ]
  },
  {
   "cell_type": "markdown",
   "metadata": {},
   "source": [
    "## Creating data frame & Data wrangling"
   ]
  },
  {
   "cell_type": "markdown",
   "metadata": {},
   "source": [
    "To create the dataframe object within `pandas`, the `.DataFrame()` function is used for the next step. The headers of the dataframe would also be specified within the `columns` parameter within the function."
   ]
  },
  {
   "cell_type": "code",
   "execution_count": 4,
   "metadata": {},
   "outputs": [
    {
     "data": {
      "text/html": [
       "<div>\n",
       "<style scoped>\n",
       "    .dataframe tbody tr th:only-of-type {\n",
       "        vertical-align: middle;\n",
       "    }\n",
       "\n",
       "    .dataframe tbody tr th {\n",
       "        vertical-align: top;\n",
       "    }\n",
       "\n",
       "    .dataframe thead th {\n",
       "        text-align: right;\n",
       "    }\n",
       "</style>\n",
       "<table border=\"1\" class=\"dataframe\">\n",
       "  <thead>\n",
       "    <tr style=\"text-align: right;\">\n",
       "      <th></th>\n",
       "      <th>title</th>\n",
       "      <th>imdb_rating</th>\n",
       "      <th>metascore</th>\n",
       "      <th>vote</th>\n",
       "    </tr>\n",
       "  </thead>\n",
       "  <tbody>\n",
       "    <tr>\n",
       "      <th>0</th>\n",
       "      <td>Black Summer</td>\n",
       "      <td>6.5</td>\n",
       "      <td>0</td>\n",
       "      <td>24114</td>\n",
       "    </tr>\n",
       "    <tr>\n",
       "      <th>1</th>\n",
       "      <td>The Boys</td>\n",
       "      <td>8.7</td>\n",
       "      <td>0</td>\n",
       "      <td>285868</td>\n",
       "    </tr>\n",
       "    <tr>\n",
       "      <th>2</th>\n",
       "      <td>Once Upon a Time... in Hollywood</td>\n",
       "      <td>7.6</td>\n",
       "      <td>83</td>\n",
       "      <td>595845</td>\n",
       "    </tr>\n",
       "    <tr>\n",
       "      <th>3</th>\n",
       "      <td>The Mandalorian</td>\n",
       "      <td>8.8</td>\n",
       "      <td>0</td>\n",
       "      <td>330713</td>\n",
       "    </tr>\n",
       "    <tr>\n",
       "      <th>4</th>\n",
       "      <td>Midsommar</td>\n",
       "      <td>7.1</td>\n",
       "      <td>72</td>\n",
       "      <td>227812</td>\n",
       "    </tr>\n",
       "    <tr>\n",
       "      <th>...</th>\n",
       "      <td>...</td>\n",
       "      <td>...</td>\n",
       "      <td>...</td>\n",
       "      <td>...</td>\n",
       "    </tr>\n",
       "    <tr>\n",
       "      <th>245</th>\n",
       "      <td>Dokutaa Sutoon</td>\n",
       "      <td>8.2</td>\n",
       "      <td>0</td>\n",
       "      <td>12778</td>\n",
       "    </tr>\n",
       "    <tr>\n",
       "      <th>246</th>\n",
       "      <td>Primal</td>\n",
       "      <td>8.7</td>\n",
       "      <td>0</td>\n",
       "      <td>7899</td>\n",
       "    </tr>\n",
       "    <tr>\n",
       "      <th>247</th>\n",
       "      <td>Criminal: UK</td>\n",
       "      <td>7.6</td>\n",
       "      <td>0</td>\n",
       "      <td>15724</td>\n",
       "    </tr>\n",
       "    <tr>\n",
       "      <th>248</th>\n",
       "      <td>Traces</td>\n",
       "      <td>6.9</td>\n",
       "      <td>0</td>\n",
       "      <td>2984</td>\n",
       "    </tr>\n",
       "    <tr>\n",
       "      <th>249</th>\n",
       "      <td>The Spy</td>\n",
       "      <td>7.9</td>\n",
       "      <td>0</td>\n",
       "      <td>35399</td>\n",
       "    </tr>\n",
       "  </tbody>\n",
       "</table>\n",
       "<p>250 rows × 4 columns</p>\n",
       "</div>"
      ],
      "text/plain": [
       "                                title imdb_rating metascore    vote\n",
       "0                        Black Summer         6.5         0   24114\n",
       "1                            The Boys         8.7         0  285868\n",
       "2    Once Upon a Time... in Hollywood         7.6        83  595845\n",
       "3                     The Mandalorian         8.8         0  330713\n",
       "4                           Midsommar         7.1        72  227812\n",
       "..                                ...         ...       ...     ...\n",
       "245                    Dokutaa Sutoon         8.2         0   12778\n",
       "246                            Primal         8.7         0    7899\n",
       "247                      Criminal: UK         7.6         0   15724\n",
       "248                            Traces         6.9         0    2984\n",
       "249                           The Spy         7.9         0   35399\n",
       "\n",
       "[250 rows x 4 columns]"
      ]
     },
     "execution_count": 4,
     "metadata": {},
     "output_type": "execute_result"
    }
   ],
   "source": [
    "movie_df = pd.DataFrame(movie_data, columns = ('title', 'imdb_rating', 'metascore','vote'))\n",
    "movie_df"
   ]
  },
  {
   "cell_type": "markdown",
   "metadata": {},
   "source": [
    "Also note that the data types in the dataframe requires to be converted as the default types of data after extraction is data object. This would be done after identifying missing and duplicated data."
   ]
  },
  {
   "cell_type": "code",
   "execution_count": 5,
   "metadata": {},
   "outputs": [
    {
     "name": "stdout",
     "output_type": "stream",
     "text": [
      "Duplicated Data: 0\n",
      "Missing Data:\n",
      "title          0\n",
      "imdb_rating    0\n",
      "metascore      0\n",
      "vote           0\n",
      "dtype: int64\n"
     ]
    }
   ],
   "source": [
    "print('Duplicated Data:', movie_df.duplicated().sum())\n",
    "print('Missing Data:')\n",
    "print(movie_df.isna().sum())"
   ]
  },
  {
   "cell_type": "code",
   "execution_count": 6,
   "metadata": {},
   "outputs": [
    {
     "name": "stdout",
     "output_type": "stream",
     "text": [
      "<class 'pandas.core.frame.DataFrame'>\n",
      "RangeIndex: 250 entries, 0 to 249\n",
      "Data columns (total 4 columns):\n",
      "title          250 non-null object\n",
      "imdb_rating    250 non-null object\n",
      "metascore      250 non-null object\n",
      "vote           250 non-null object\n",
      "dtypes: object(4)\n",
      "memory usage: 7.9+ KB\n"
     ]
    }
   ],
   "source": [
    "movie_df.info()"
   ]
  },
  {
   "cell_type": "markdown",
   "metadata": {},
   "source": [
    "To convert the data types of each variables, `.astype()` function is used along with the specification of each data type within the function. The conversions are as below."
   ]
  },
  {
   "cell_type": "code",
   "execution_count": 7,
   "metadata": {},
   "outputs": [
    {
     "data": {
      "text/plain": [
       "title           object\n",
       "imdb_rating    float64\n",
       "metascore        int32\n",
       "vote             int32\n",
       "dtype: object"
      ]
     },
     "execution_count": 7,
     "metadata": {},
     "output_type": "execute_result"
    }
   ],
   "source": [
    "movie_df['title'] = movie_df['title'].astype('object')\n",
    "movie_df['imdb_rating'] = movie_df['imdb_rating'].astype('float')\n",
    "movie_df[['metascore', 'vote']] = movie_df[['metascore', 'vote']].astype('int') \n",
    "movie_df.dtypes"
   ]
  },
  {
   "cell_type": "markdown",
   "metadata": {},
   "source": [
    "**OPTIONAL**"
   ]
  },
  {
   "cell_type": "code",
   "execution_count": 8,
   "metadata": {},
   "outputs": [
    {
     "data": {
      "text/plain": [
       "189"
      ]
     },
     "execution_count": 8,
     "metadata": {},
     "output_type": "execute_result"
    }
   ],
   "source": [
    "(movie_df['metascore'] == 0).sum()"
   ]
  },
  {
   "cell_type": "markdown",
   "metadata": {},
   "source": [
    "As seen on the previous code, most of the values in `metascore` variable has 0 value which indicates the missing data within the webpage. Due to the number of 0 value exceed 50% of the whole dataframe. the column could be ignored or dropped."
   ]
  },
  {
   "cell_type": "markdown",
   "metadata": {},
   "source": [
    "### Implementing webscrapping to the flask dashboard\n",
    "\n",
    "The plots that are used within the analysis are two histograms which describe the distribution of data for `imdb_rating` and `voting`. the plots are shown below."
   ]
  },
  {
   "cell_type": "code",
   "execution_count": 9,
   "metadata": {},
   "outputs": [
    {
     "data": {
      "text/plain": [
       "<AxesSubplot:ylabel='Frequency'>"
      ]
     },
     "execution_count": 9,
     "metadata": {},
     "output_type": "execute_result"
    },
    {
     "data": {
      "image/png": "[encoded data removed]",
      "text/plain": [
       "<Figure size 1080x648 with 1 Axes>"
      ]
     },
     "metadata": {
      "needs_background": "light"
     },
     "output_type": "display_data"
    }
   ],
   "source": [
    "movie_df['imdb_rating'].plot(kind='hist', figsize = (15,9))"
   ]
  },
  {
   "cell_type": "code",
   "execution_count": 11,
   "metadata": {},
   "outputs": [
    {
     "data": {
      "text/plain": [
       "<AxesSubplot:ylabel='Frequency'>"
      ]
     },
     "execution_count": 11,
     "metadata": {},
     "output_type": "execute_result"
    },
    {
     "data": {
      "image/png": "[encoded data removed]",
      "text/plain": [
       "<Figure size 1080x648 with 1 Axes>"
      ]
     },
     "metadata": {
      "needs_background": "light"
     },
     "output_type": "display_data"
    }
   ],
   "source": [
    "movie_df['vote'].plot(kind='hist', figsize = (15,9), color = 'orange')"
   ]
  },
  {
   "cell_type": "markdown",
   "metadata": {},
   "source": [
    "Based on the plots above, it is shown that both of the `imdb_rating` and `vote` distributions in 250 data records are skewed which are concentrated approximately 6 to 7 for ratings and approximately 100 thousand votes. The skewed data could also be normalized for several purpose including the machine learning implementation. However, the normalization of the distribution is not within the scope of this project.\n",
    "\n",
    "Likewise, the plots are implemented on `flask` by executing `app.py` as founded within the directory of this project."
   ]
  },
  {
   "cell_type": "markdown",
   "metadata": {},
   "source": [
    "## Final Conclusion "
   ]
  },
  {
   "cell_type": "markdown",
   "metadata": {
    "ExecuteTime": {
     "end_time": "2020-01-13T05:20:56.208237Z",
     "start_time": "2020-01-13T05:20:56.076043Z"
    }
   },
   "source": [
    "In summary, web scrapping is a powerful tool to gather data within a webpage (or multiple) that could help to provide data that are accessible through web. This project also demonstrates the data wrangling and visualization process which is also required for exploring the data source at the beginning.\n",
    "\n",
    "As for the analysis of the data, the skewed distribution would require to be normalized for several purposes such as the implementation of machine learning. This would be an opportunity for further development of this project.\n",
    "\n",
    "For further information regarding capstone projects, visit [Algorit.ma](https://algorit.ma/) or simply follow and subscribe the youtube channel at this link [Algoritma Data Science School](https://www.youtube.com/channel/UCCix0G-RLoRTenSFEGrQILQ)\n",
    "\n",
    "~Happy Exploring!"
   ]
  }
 ],
 "metadata": {
  "kernelspec": {
   "display_name": "Python [conda env:beautifulsoup]",
   "language": "python",
   "name": "conda-env-beautifulsoup-py"
  },
  "language_info": {
   "codemirror_mode": {
    "name": "ipython",
    "version": 3
   },
   "file_extension": ".py",
   "mimetype": "text/x-python",
   "name": "python",
   "nbconvert_exporter": "python",
   "pygments_lexer": "ipython3",
   "version": "3.8.8"
  },
  "toc": {
   "base_numbering": 1,
   "nav_menu": {},
   "number_sections": true,
   "sideBar": true,
   "skip_h1_title": false,
   "title_cell": "Table of Contents",
   "title_sidebar": "Contents",
   "toc_cell": false,
   "toc_position": {},
   "toc_section_display": true,
   "toc_window_display": false
  }
 },
 "nbformat": 4,
 "nbformat_minor": 2
}
